{
 "cells": [
  {
   "cell_type": "markdown",
   "id": "c0af21cd-a2bc-4708-9f25-447b68ddd3a5",
   "metadata": {},
   "source": [
    "# Preamble"
   ]
  },
  {
   "cell_type": "code",
   "execution_count": 1,
   "id": "c126ea6d-4e81-4e6a-b34d-25574715c68d",
   "metadata": {},
   "outputs": [],
   "source": [
    "%matplotlib inline"
   ]
  },
  {
   "cell_type": "code",
   "execution_count": 2,
   "id": "db02a016-db7d-467a-8282-4ab07fa98693",
   "metadata": {},
   "outputs": [],
   "source": [
    "import torch\n",
    "from torch.autograd import Variable\n",
    "import torch.nn.functional as F\n",
    "import torch.utils.data as Data\n",
    "\n",
    "import operator\n",
    "import collections\n",
    "\n",
    "import matplotlib.pyplot as plt\n",
    "from matplotlib import patches\n",
    "import matplotlib.animation as animation\n",
    "from matplotlib.transforms import ScaledTranslation\n",
    "\n",
    "import numpy as np\n",
    "import imageio\n",
    "from tqdm import tqdm"
   ]
  },
  {
   "cell_type": "markdown",
   "id": "6a0eb3d1-d7fa-4a27-b11c-012eab060446",
   "metadata": {},
   "source": [
    "# Plot functions"
   ]
  },
  {
   "cell_type": "code",
   "execution_count": 39,
   "id": "9eb9f579-bcb1-420f-8abb-9382438eefb2",
   "metadata": {},
   "outputs": [],
   "source": [
    "plt.rcParams.update({\n",
    "    \"animation.writer\": \"ffmpeg\",\n",
    "    \"font.family\": \"serif\",  # use serif/main font for text elements\n",
    "    \"font.size\": 12,\n",
    "    \"text.usetex\": True,     # use inline math for ticks\n",
    "    \"text.latex.preamble\": r\"\\usepackage{amsmath}\",\n",
    "    \"pgf.rcfonts\": False,    # don't setup fonts from rc parameters\n",
    "    \"hist.bins\": 20, # default number of bins in histograms\n",
    "    \"pgf.preamble\": [\n",
    "         \"\\\\usepackage{units}\",          # load additional packages\n",
    "         \"\\\\usepackage{metalogo}\",\n",
    "         \"\\\\usepackage{unicode-math}\",   # unicode math setup\n",
    "         r\"\\setmathfont{xits-math.otf}\",\n",
    "         r\"\\setmainfont{DejaVu Serif}\",  # serif font via preamble\n",
    "         r'\\usepackage{color}',\n",
    "    ]\n",
    "})"
   ]
  },
  {
   "cell_type": "code",
   "execution_count": 4,
   "id": "8534ac3e-2218-41e1-8e09-ca2a268e4644",
   "metadata": {},
   "outputs": [],
   "source": [
    "def rotate_point(x, y, angle_deg):\n",
    "    cos,sin = np.cos(angle_deg*np.pi/180),np.sin(angle_deg*np.pi/180)\n",
    "    return cos*x-sin*y,sin*x+cos*y\n",
    "\n",
    "def draw_brace(ax, span, position, text, text_pos, brace_scale=1.0, beta_scale=300., rotate=False, \n",
    "               rotate_text=False, color='black', fontsize=16, linewidth=1.):\n",
    "    '''\n",
    "        all positions and sizes are in axes units\n",
    "        span: size of the curl\n",
    "        position: placement of the tip of the curl\n",
    "        text: label to place somewhere\n",
    "        text_pos: position for the label\n",
    "        beta_scale: scaling for the curl, higher makes a smaller radius\n",
    "        rotate: anngle of rotation for the curl\n",
    "        rotate_text: angle of rotation for the text       \n",
    "    '''\n",
    "    # get the total width to help scale the figure\n",
    "    ax_xmin, ax_xmax = ax.get_xlim()\n",
    "    xax_span = ax_xmax - ax_xmin\n",
    "    resolution = int(span/xax_span*100)*2+1 # guaranteed uneven\n",
    "    beta = beta_scale/xax_span # the higher this is, the smaller the radius\n",
    "    # center the shape at (0, 0)\n",
    "    x = np.linspace(-span/2., span/2., resolution)\n",
    "    # calculate the shape\n",
    "    x_half = x[:int(resolution/2)+1]\n",
    "    y_half_brace = (1/(1.+np.exp(-beta*(x_half-x_half[0])))\n",
    "                + 1/(1.+np.exp(-beta*(x_half-x_half[-1]))))\n",
    "    y = np.concatenate((y_half_brace, y_half_brace[-2::-1]))\n",
    "    # put the tip of the curl at (0, 0)\n",
    "    max_y = np.max(y)    \n",
    "    min_y = np.min(y)\n",
    "    y /= (max_y-min_y)\n",
    "    y *= brace_scale\n",
    "    y -= max_y\n",
    "    # rotate the trace before shifting\n",
    "    x,y = rotate_point(x, y, rotate)\n",
    "    # shift to the user's spot   \n",
    "    x += position[0]        \n",
    "    y += position[1]\n",
    "    ax.autoscale(False)\n",
    "    ax.plot(x, y, clip_on=False, color=color, lw=linewidth)\n",
    "    # put the text\n",
    "    ax.text(text_pos[0], text_pos[1], text, ha='center', va='bottom', rotation=rotate_text, color=color, fontsize=fontsize) "
   ]
  },
  {
   "cell_type": "code",
   "execution_count": 5,
   "id": "1c9591bc-44f9-4b7e-8887-dd2dcb95c39b",
   "metadata": {},
   "outputs": [],
   "source": [
    "def draw_unfinished_brace(ax, span, position, text, text_pos, brace_scale=1.0, beta_scale=300., rotate=False, \n",
    "               rotate_text=False, color='black', fontsize=16, linewidth=1., extra_dash=0.1):\n",
    "    '''\n",
    "        all positions and sizes are in axes units\n",
    "        span: size of the curl\n",
    "        position: placement of the tip of the curl\n",
    "        text: label to place somewhere\n",
    "        text_pos: position for the label\n",
    "        beta_scale: scaling for the curl, higher makes a smaller radius\n",
    "        rotate: anngle of rotation for the curl\n",
    "        rotate_text: angle of rotation for the text       \n",
    "    '''\n",
    "    # get the total width to help scale the figure\n",
    "    ax_xmin, ax_xmax = ax.get_xlim()\n",
    "    xax_span = ax_xmax - ax_xmin\n",
    "    resolution = int(span/xax_span*100)*2+1 # guaranteed uneven\n",
    "    beta = beta_scale/xax_span # the higher this is, the smaller the radius\n",
    "    # center the shape at (0, 0)\n",
    "    x = np.linspace(-span/2., span/2., resolution)\n",
    "    x_extended = np.linspace(-span*(0.5+extra_dash), span*0.5, (int)((1+extra_dash)*resolution))\n",
    "    # calculate the shape\n",
    "    x_half = x[:int(resolution/2)+1]\n",
    "    y_half_brace = (1/(1.+np.exp(-beta*(x_half-x_half[0])))\n",
    "                + 1/(1.+np.exp(-beta*(x_half-x_half[-1]))))\n",
    "    remove = int(0.2*len(x))\n",
    "    y_extended = np.concatenate((y_half_brace[remove:], y_half_brace[-2::-1]))\n",
    "    extra_length = len(x_extended)-len(y_extended)\n",
    "    y_extended = np.concatenate((y_extended[0]*np.ones(extra_length), y_extended))\n",
    "    # put the tip of the curl at (0, 0)\n",
    "    max_y = np.max(y_extended)    \n",
    "    min_y = np.min(y_extended)\n",
    "    y_extended /= (max_y-min_y)\n",
    "    y_extended *= brace_scale\n",
    "    y_extended -= max_y\n",
    "    # rotate the trace before shifting\n",
    "    x_extended,y_extended = rotate_point(x_extended, y_extended, rotate)\n",
    "    # shift to the user's spot   \n",
    "    x_extended += position[0]        \n",
    "    y_extended += position[1]\n",
    "    ax.autoscale(False)\n",
    "    dashed_length = len(x_extended)-resolution\n",
    "    ax.plot(x_extended[dashed_length:], y_extended[dashed_length:], clip_on=False, color=color, lw=linewidth)\n",
    "    ax.plot(x_extended[:dashed_length], y_extended[:dashed_length], clip_on=False, color=color, lw=linewidth, linestyle=(0, (5, 5)))\n",
    "    # put the text\n",
    "    ax.text(text_pos[0], text_pos[1], text, ha='center', va='bottom', rotation=rotate_text, color=color, fontsize=fontsize) "
   ]
  },
  {
   "cell_type": "markdown",
   "id": "2e8dc193-0f82-47f2-b43d-357276cda3be",
   "metadata": {},
   "source": [
    "# Network architecture"
   ]
  },
  {
   "cell_type": "code",
   "execution_count": 6,
   "id": "65f4780d-8501-434a-8f90-ab9cf62bf90f",
   "metadata": {},
   "outputs": [],
   "source": [
    "class Net(torch.nn.Module):\n",
    "    \"\"\"\n",
    "    1 hidden layer Relu network architecture\n",
    "    \"\"\"\n",
    "    def __init__(self, n_hidden, n_feature=1, n_output=1, bias_hidden=True, skip_connection=True, **kwargs):\n",
    "        \"\"\"\n",
    "        n_hidden: number of hidden neurons\n",
    "        n_feature: dimension of input\n",
    "        n_output: dimension of output\n",
    "        bias_hidden: if True, use bias parameters in hidden layer. Use no bias otherwise\n",
    "        skip_connection: if True, add a (free) affine term in the represented function\n",
    "        \"\"\"\n",
    "        super(Net, self).__init__()\n",
    "        self.bias_hidden_ = bias_hidden\n",
    "        \n",
    "        self.skip_ = skip_connection\n",
    "        \n",
    "        self.hidden = torch.nn.Linear(n_feature, n_hidden, bias=bias_hidden)   # hidden layer            \n",
    "        self.predict = torch.nn.Linear(n_hidden, n_output, bias=False)   # output layer\n",
    "        self.activation = kwargs.get('activation', torch.nn.ReLU()) # activation of hidden layer\n",
    "        if self.skip_:\n",
    "            self.skip = torch.nn.Linear(n_feature, n_output, bias=True)   # affine term     \n",
    "\n",
    "    def forward(self, z):\n",
    "        z1 = self.activation(self.hidden(z))    \n",
    "        z1 = self.predict(z1)\n",
    "        if self.skip_:\n",
    "            z1 += self.skip(z)\n",
    "        return z1\n",
    "    \n",
    "    def weight_norm(self, bias=True):\n",
    "        \"\"\"\n",
    "        Return the total squared L2 norm of the parameters\n",
    "        bias: if True, count the bias weight in the L2 norm\n",
    "        \"\"\"\n",
    "        if bias:\n",
    "            sq_hidden_norms = (self.hidden.weight.data.norm(dim=1).square()+self.hidden.bias.data.square()).sum()\n",
    "        else:\n",
    "            sq_hidden_norms = self.hidden.weight.data.norm(dim=1).square().sum()\n",
    "        sq_output_norms = self.predict.weight.data.square().sum()\n",
    "        return (sq_hidden_norms+sq_output_norms)/2\n",
    "        \n",
    "    def balance(self, bias=True):\n",
    "        \"\"\"\n",
    "        make the weights of the hidden and output layer balanced (useful to minimise the L2 norm of the parameters)\n",
    "        bias: if True, count the bias weight in the L2 norm\n",
    "        \"\"\"\n",
    "        if bias:\n",
    "            hidden_norms = (self.hidden.weight.data.norm(dim=1).square()+self.hidden.bias.data.square()).sqrt().reshape(1,-1)\n",
    "        else:\n",
    "            hidden_norms = (self.hidden.weight.data.norm(dim=1).square()).sqrt().reshape(1,-1)\n",
    "        output_norms = self.predict.weight.data.abs()\n",
    "        \n",
    "        #avoid division by 0\n",
    "        hidden_norms[hidden_norms==0] = 1\n",
    "        output_norms[output_norms==0] = 1\n",
    "        \n",
    "        c = (output_norms/hidden_norms).sqrt()\n",
    "        self.hidden.weight.data *= c.T\n",
    "        if self.bias_hidden_:\n",
    "            self.hidden.bias.data *= c.reshape(-1)\n",
    "        self.predict.weight.data /= c.reshape(-1)"
   ]
  },
  {
   "cell_type": "markdown",
   "id": "51b8c50a-b9a4-4acf-b8ea-3365f45fd817",
   "metadata": {},
   "source": [
    "# Generating data"
   ]
  },
  {
   "cell_type": "code",
   "execution_count": 7,
   "id": "a399fd14-1fd7-4878-b332-7df78aa3093f",
   "metadata": {},
   "outputs": [],
   "source": [
    "def generate_convex_sequence(npoints, x0=None, delta0=None, xmaxdiff=1, deltamaxdiff=1, xmindiff=0, deltamindiff=0):\n",
    "    \"\"\"\n",
    "    return a sequence of points (x_i, delta_i) such that the piecewise linear interpolation \n",
    "    is convex on the whole interval (x_min, x_max).\n",
    "    The delta_i give the slope of the piecewise linear interpolation on the interval (x_i, x_{i+1})\n",
    "    It does so by generating increments of x and delta as unfiorm random variables.\n",
    "    xmaxdiff: max range of x increments\n",
    "    xmindiff: min range of x increments\n",
    "    x0: fix first value of x. If None, choose one uniformly at random in (-1,1)\n",
    "    deltamaxdiff: max range of delta increments\n",
    "    deltamindiff: min range of delta increments\n",
    "    delta0: fix first value of delta. If None, choose one uniformly at random in (-1,1)\n",
    "    \"\"\"\n",
    "    \n",
    "    if x0 is None:\n",
    "        x0 = np.random.uniform(low=-1,high=1)\n",
    "    x = x0*np.ones(npoints)\n",
    "    xincr = np.random.uniform(low=xmindiff, high=xmaxdiff, size=npoints-1)\n",
    "    x[1:]+=xincr.cumsum()\n",
    "    \n",
    "    \n",
    "    if delta0 is None:\n",
    "        delta0 = np.random.uniform(low=-1,high=1)\n",
    "    delta = delta0*np.ones(npoints-1)\n",
    "    deltaincr = np.random.uniform(low=deltamindiff, high=deltamaxdiff, size=npoints-2)    \n",
    "    delta[1:]+=deltaincr.cumsum()\n",
    "    \n",
    "    return x,delta\n",
    "\n",
    "def deltas_to_ys(x,delta,y0=0):\n",
    "    \"\"\"\n",
    "    return a sequence of points y_i such that the sequence (coordinates,values) = (x,y) \n",
    "    corresponds to the sequence (coordinate, slope) = (x, delta).\n",
    "    y0: value of the first y.\n",
    "    \"\"\"\n",
    "    y = y0*np.ones(len(x))\n",
    "    yincr = delta*(x[1:]-x[:-1])\n",
    "    y[1:] += np.cumsum(yincr)\n",
    "    return y"
   ]
  },
  {
   "cell_type": "markdown",
   "id": "2911df0c-9ba2-4da1-9035-f3e73a394a85",
   "metadata": {},
   "source": [
    "# Solving min norm interpolator"
   ]
  },
  {
   "cell_type": "code",
   "execution_count": 8,
   "id": "e5e0bac3-e234-451e-9273-eb765b3e7834",
   "metadata": {},
   "outputs": [],
   "source": [
    "def g(x1,x0,delta):\n",
    "    return lambda s1,s0 : np.sqrt((x1*(s1.reshape(-1,1)-delta)-x0*(s0.reshape(1,-1)-delta))**2+(s1.reshape(-1,1)-s0.reshape(1,-1))**2)"
   ]
  },
  {
   "cell_type": "code",
   "execution_count": 9,
   "id": "330461a4-7d2d-40f0-919a-823bee5a7aa5",
   "metadata": {},
   "outputs": [],
   "source": [
    "def min_norm_interpolator(x, delta, grid_size=100, return_cost=False):\n",
    "    \"\"\"\n",
    "    Given the (coordinates, slopes) sequence (x,delta), return the sequence of slope (s_i) minimising the dynamic program.\n",
    "    Since the dynamic program is continuous, we approximate it by discretising the intervals (delta_i,delta_{i+1})\n",
    "    grid_size: number of points in the discretisation of (delta_i,delta_{i+1}) at each iteration\n",
    "    return_cost: if True, also return the approximations of c_i as a matrix as well as the total cost of the associated interpolator\n",
    "    \"\"\"\n",
    "    n = len(x)\n",
    "    i0 = np.searchsorted(x, 0, side='right', sorter=None)\n",
    "    cost = np.zeros((n, grid_size))\n",
    "    \n",
    "    slope = np.zeros((n, grid_size), dtype=int) # argmin associated to the costs c_i\n",
    "    \n",
    "    grid = np.zeros((n, grid_size))\n",
    "    grid[0,:] = delta[0]\n",
    "    grid[-1,:] = delta[-1]\n",
    "    \n",
    "    for i in range(1,n-1):\n",
    "        if (i>=2) and (np.sign(delta[i]-delta[i-1])*np.sign(delta[i-2]-delta[i-1])>=0):\n",
    "            grid[i,:] = delta[i-1]\n",
    "        else:\n",
    "            grid[i,:] = np.linspace(delta[i-1],delta[i],grid_size)\n",
    "    \n",
    "    for i in range(0,i0-1):\n",
    "        #compute c^-_{i+1}\n",
    "        s0 = grid[i,:]\n",
    "        s1 = grid[i+1,:]\n",
    "        g1 = g(x[i+1],x[i],delta[i])\n",
    "        cost[i+1,:] = np.min(g1(s1,s0)+cost[i,:].reshape(1,-1),axis=1)\n",
    "        slope[i+1,:] = np.argmin(g1(s1,s0)+cost[i,:].reshape(1,-1),axis=1)\n",
    "        \n",
    "        # handle the case s_i = delta_i\n",
    "        k1 = np.min((np.searchsorted(grid[i,:],delta[i]),grid_size-1))\n",
    "        k2 = np.min((np.searchsorted(grid[i+1,:],delta[i]),grid_size-1))\n",
    "        cost[i+1,k2] = cost[i,k1]\n",
    "        slope[i+1,k2] = k1\n",
    "        \n",
    "    for j in range(1,n-i0):\n",
    "        # compute c^+_i\n",
    "        i = n-j-1\n",
    "        s0 = grid[i,:]\n",
    "        s1 = grid[i+1,:]\n",
    "        g1 = g(x[i+1],x[i],delta[i])\n",
    "        cost[i,:] = np.min(g1(s1,s0)+cost[i+1,:].reshape(-1,1),axis=0)\n",
    "        slope[i,:] = np.argmin(g1(s1,s0)+cost[i+1,:].reshape(-1,1),axis=0)\n",
    "        \n",
    "        # handle the case s_i = delta_i\n",
    "        k1 = np.min((np.searchsorted(grid[i,:],delta[i]),grid_size-1))\n",
    "        k2 = np.min((np.searchsorted(grid[i+1,:],delta[i]),grid_size-1))\n",
    "        cost[i,k1] = cost[i+1,k2]\n",
    "        slope[i,k1] = k2\n",
    "    \n",
    "    s_index = np.zeros(n, dtype=int) # minimal sequence of slopes as indices\n",
    "    \n",
    "    #compute optimal slopes at x_{i0-1} and x_{i0}\n",
    "    if (i0>0 and i0<n):\n",
    "        i = i0-1\n",
    "        s0 = grid[i,:]\n",
    "        s1 = grid[i+1,:]\n",
    "        g1 = g(x[i+1],x[i],delta[i])\n",
    "        Z = g1(s1,s0)+cost[i+1,:].reshape(-1,1)+cost[i,:].reshape(1,-1)\n",
    "        c = np.min(Z)\n",
    "        k1,k0 = np.unravel_index(np.argmin(Z, axis=None), Z.shape)\n",
    "        s_index[i0] = k1\n",
    "        s_index[i0-1] = k0\n",
    "    elif i0==0:\n",
    "        s_index[i0]=0\n",
    "        c = np.min(cost[0,:])\n",
    "    else: #i0==n\n",
    "        s_index[i0-1]=0\n",
    "        c = np.min(cost[i0-1,:])\n",
    "        \n",
    "    for j in range(1,i0):\n",
    "        i=i0-j-1\n",
    "        s_index[i]=slope[i+1,s_index[i+1]]\n",
    "    for i in range(i0,n-1):\n",
    "        s_index[i+1]=slope[i,s_index[i]]\n",
    "        \n",
    "    s = np.zeros(n) # minimal sequence of slopes\n",
    "    for i in range(0,n):\n",
    "        s[i] = grid[i,s_index[i]]\n",
    "    \n",
    "    if return_cost:\n",
    "        return s,cost,c\n",
    "    else:\n",
    "        return s"
   ]
  },
  {
   "cell_type": "code",
   "execution_count": 10,
   "id": "53556c03-b6ea-4b4c-932c-30b11e43b8f9",
   "metadata": {},
   "outputs": [],
   "source": [
    "def slopes_to_network(x, y, s, balanced=True):\n",
    "    \"\"\"\n",
    "    From an appropriate sequence of slopes s, return a corresponding neural network \n",
    "    interpolating the data (x,y).\n",
    "    We use for this the mapping given in the Appendix.\n",
    "    balanced: if True, return a balanced network\n",
    "    \"\"\"\n",
    "    n = len(x)\n",
    "    net = Net(n-1)\n",
    "    for w in net.parameters(): # set all weights to 0\n",
    "        torch.nn.init.zeros_(w.data)\n",
    "    \n",
    "    # affine term\n",
    "    net.skip.weight.data[0,0] = s[0]\n",
    "    net.skip.bias.data[0]=y[0]-s[0]*x[0]\n",
    "    \n",
    "    #ReLU terms\n",
    "    torch.nn.init.ones_(net.hidden.weight.data)\n",
    "    for i in range(0,n-1):\n",
    "        # a_i\n",
    "        net.predict.weight.data[0,i] = s[i+1]-s[i]\n",
    "        # tau_i\n",
    "        if (s[i+1]!=s[i]):\n",
    "            net.hidden.bias.data[i] = -x[i+1]+(y[i+1]-y[i]-s[i]*(x[i+1]-x[i]))/(s[i+1]-s[i])\n",
    "        else:\n",
    "            net.hidden.weight.data[i] = 0\n",
    "            \n",
    "        \n",
    "    if balanced:\n",
    "        net.balance()\n",
    "        \n",
    "    return net"
   ]
  },
  {
   "cell_type": "markdown",
   "id": "85cf9e28-0d0d-47b1-8252-385d21f3ea2c",
   "metadata": {
    "tags": []
   },
   "source": [
    "# Illustration"
   ]
  },
  {
   "cell_type": "code",
   "execution_count": 11,
   "id": "89f8a904-2092-4abf-bf28-0d9cb40a709c",
   "metadata": {},
   "outputs": [
    {
     "name": "stdout",
     "output_type": "stream",
     "text": [
      "[-1.         -0.33483259  0.26749173  1.07712721  1.72695455]\n"
     ]
    }
   ],
   "source": [
    "n=6\n",
    "np.random.seed(2)\n",
    "(x,delta) = generate_convex_sequence(n, xmindiff=0.2, xmaxdiff=1, x0=0,deltamindiff=0.5,deltamaxdiff=1,delta0=-1)\n",
    "y = deltas_to_ys(x,delta)\n",
    "print(delta)"
   ]
  },
  {
   "cell_type": "code",
   "execution_count": 12,
   "id": "c19cdd3c-d296-46c8-b90c-6007d5cb3474",
   "metadata": {},
   "outputs": [],
   "source": [
    "s,cost,c = min_norm_interpolator(x,delta,return_cost=True, grid_size=100)\n",
    "#print(s)\n",
    "net1 = slopes_to_network(x, y, s, balanced=False) # min norm interpolator"
   ]
  },
  {
   "cell_type": "code",
   "execution_count": 13,
   "id": "89b59ca9-4ed1-41df-bf7b-58959eed8fcc",
   "metadata": {},
   "outputs": [],
   "source": [
    "s = np.array([delta[0], delta[0], delta[2], delta[2], delta[4], delta[4]])\n",
    "net2 = slopes_to_network(x, y, s, balanced=True) # sparsest interpolator"
   ]
  },
  {
   "cell_type": "code",
   "execution_count": 15,
   "id": "9848f299-f488-435f-9cfe-4137b2e5d56a",
   "metadata": {},
   "outputs": [
    {
     "data": {
      "image/png": "[encoded data removed]",
      "text/plain": [
       "<Figure size 720x288 with 1 Axes>"
      ]
     },
     "metadata": {
      "needs_background": "light"
     },
     "output_type": "display_data"
    }
   ],
   "source": [
    "z = torch.Tensor(np.linspace(x[0]-0.1,x[-1]+0.1,200).reshape(-1,1))\n",
    "# view data\n",
    "plt.figure(figsize=(10,4))\n",
    "plt.scatter(x, y, color = \"tab:green\")\n",
    "plt.plot(z.data.numpy(), net1(z).data.numpy(), color = \"tab:blue\", label=\"min norm\")\n",
    "plt.plot(z.data.numpy(), net2(z).data.numpy(), '--', color = \"tab:red\", label=\"sparsest\")\n",
    "plt.xlabel(r'$x$', labelpad=0, fontsize=18)\n",
    "plt.ylabel(r'$y$', labelpad=0, fontsize=18)\n",
    "plt.grid(alpha=0.2)\n",
    "plt.legend(fontsize=18)\n",
    "plt.tight_layout()\n",
    "plt.savefig('nosparse.pdf')\n",
    "plt.show()"
   ]
  },
  {
   "cell_type": "markdown",
   "id": "6714117f-0c23-49c9-bf90-11d40c64eb09",
   "metadata": {},
   "source": [
    "### Sparsest recovery criterion"
   ]
  },
  {
   "cell_type": "code",
   "execution_count": 16,
   "id": "cfc829d9-f21e-4571-b43c-6524f39c0b16",
   "metadata": {},
   "outputs": [
    {
     "name": "stdout",
     "output_type": "stream",
     "text": [
      "Sparse recovery criterion satisfied:  False\n"
     ]
    }
   ],
   "source": [
    "i=2\n",
    "u0 = np.array([x[i],1])\n",
    "u1 = np.array([x[i+1],1])\n",
    "w0 = np.array([x[i]*(delta[i]-delta[i-1])/(delta[i]-delta[i-2])+x[i-1]*(delta[i-1]-delta[i-2])/(delta[i]-delta[i-2]),1])\n",
    "w1 = np.array([x[i+2]*(delta[i+2]-delta[i+1])/(delta[i+2]-delta[i])+x[i+1]*(delta[i+1]-delta[i])/(delta[i+2]-delta[i]),1])\n",
    "a1 = np.sum(u0*u0)-np.sum(u0*w0)**2/np.sum(w0*w0)\n",
    "a2 = np.sum(u1*u1)-np.sum(u1*w1)**2/np.sum(w1*w1)\n",
    "a3 = np.sum(u0*u1) - np.sum(u0*w0)*np.sum(u1*w1)/(np.linalg.norm(w0)*np.linalg.norm(w1))\n",
    "print(\"Sparse recovery criterion satisfied: \", -a3 <= np.sqrt(a1*a2))"
   ]
  },
  {
   "cell_type": "code",
   "execution_count": 17,
   "id": "4a11822f-b74a-489d-b87f-3a8eaf5a6d08",
   "metadata": {},
   "outputs": [
    {
     "name": "stdout",
     "output_type": "stream",
     "text": [
      "Weight norm of sparsest network:  4.3343506\n",
      "Weight norm of min interpolator:  4.323781\n"
     ]
    }
   ],
   "source": [
    "print(\"Weight norm of sparsest network: \", net2.weight_norm().data.numpy())\n",
    "net1.balance()\n",
    "print(\"Weight norm of min interpolator: \", net1.weight_norm().data.numpy())"
   ]
  },
  {
   "cell_type": "code",
   "execution_count": 18,
   "id": "079c2364-a438-4b85-9d30-698368bce6c1",
   "metadata": {},
   "outputs": [
    {
     "name": "stdout",
     "output_type": "stream",
     "text": [
      "Do they interpolate?\n",
      "Training loss of sparse network:  1.8189185e-07\n",
      "Training loss of min norm network:  1.8189185e-07\n"
     ]
    }
   ],
   "source": [
    "print(\"Do they interpolate?\")\n",
    "print(\"Training loss of sparse network: \", (net2(torch.Tensor(x).reshape(-1,1))-torch.Tensor(y).reshape(-1,1)).norm().data.numpy())\n",
    "print(\"Training loss of min norm network: \", (net1(torch.Tensor(x).reshape(-1,1))-torch.Tensor(y).reshape(-1,1)).norm().data.numpy())"
   ]
  },
  {
   "cell_type": "markdown",
   "id": "7168c9ee-48dd-497b-b147-3f5695a5ab1a",
   "metadata": {},
   "source": [
    "# Partitioned case"
   ]
  },
  {
   "cell_type": "code",
   "execution_count": 19,
   "id": "0e115e66-60cd-4b7c-a53a-cb0d5fcdaac9",
   "metadata": {},
   "outputs": [
    {
     "name": "stdout",
     "output_type": "stream",
     "text": [
      "[-1.2881726  -0.46522554  0.25356806  0.25356806  0.25356806  0.76367726\n",
      "  1.67998718  2.56906556  1.95933015  1.01846736]\n"
     ]
    }
   ],
   "source": [
    "np.random.seed(0)\n",
    "n_list = [3, 2, 3, 3]\n",
    "sign_list = [1, 0, 1, -1]\n",
    "xminincr,xmaxincr = 0.2,1\n",
    "dminincr,dmaxincr = 0.5,1\n",
    "last_n = 0\n",
    "delta0 = -2\n",
    "x0 = -4\n",
    "\n",
    "n_points = np.sum(n_list)\n",
    "x = np.zeros(n_points)\n",
    "delta = np.zeros(n_points-1)\n",
    "\n",
    "for i in range(len(n_list)):\n",
    "    incr = n_list[i]\n",
    "    n = incr + last_n\n",
    "    s = sign_list[i]\n",
    "    if s==1:\n",
    "        (x_n,delta_n) = generate_convex_sequence(incr+2,xmindiff=xminincr,xmaxdiff=xmaxincr,x0=x0,deltamindiff=dminincr,deltamaxdiff=dmaxincr,delta0=delta0)\n",
    "    elif s==-1:\n",
    "        (x_n,delta_n) = generate_convex_sequence(incr+2,xmindiff=xminincr,xmaxdiff=xmaxincr,x0=x0,deltamindiff=-dmaxincr,deltamaxdiff=-dminincr,delta0=delta0)\n",
    "    elif s==0:\n",
    "        (x_n,delta_n) = generate_convex_sequence(incr+2,xmindiff=xminincr,xmaxdiff=xmaxincr,x0=x0,deltamindiff=0,deltamaxdiff=0,delta0=delta0)\n",
    "    x[last_n:n] = x_n[1:-1]\n",
    "    if n==n_points:\n",
    "        delta[last_n:n-1] = delta_n[1:-1]\n",
    "    else:\n",
    "        delta[last_n:n] = delta_n[1:]\n",
    "    x0 = x_n[-2]\n",
    "    delta0 = delta_n[-1]\n",
    "    last_n = n\n",
    "    \n",
    "y = deltas_to_ys(x,delta)\n",
    "print(delta)"
   ]
  },
  {
   "cell_type": "code",
   "execution_count": 20,
   "id": "5872c02a-05a8-44ff-81d2-45e9f6fdb6ea",
   "metadata": {},
   "outputs": [],
   "source": [
    "s,cost,c = min_norm_interpolator(x,delta,return_cost=True, grid_size=100)\n",
    "#print(s)\n",
    "net = slopes_to_network(x, y, s, balanced=False)"
   ]
  },
  {
   "cell_type": "code",
   "execution_count": 21,
   "id": "a04df6f4-8d20-4506-99fd-3ebebc35720b",
   "metadata": {},
   "outputs": [
    {
     "data": {
      "image/png": "[encoded data removed]",
      "text/plain": [
       "<Figure size 720x288 with 1 Axes>"
      ]
     },
     "metadata": {
      "needs_background": "light"
     },
     "output_type": "display_data"
    }
   ],
   "source": [
    "z = torch.Tensor(np.linspace(x[0]-0.1,x[-1]+0.1,200).reshape(-1,1))\n",
    "# view data\n",
    "plt.figure(figsize=(10,4))\n",
    "plt.scatter(x, y, color = \"tab:green\")\n",
    "plt.plot(z.data.numpy(), net(z).data.numpy(), color = \"tab:blue\", label=\"Min norm interpolator\")\n",
    "plt.grid(alpha=0.2)\n",
    "plt.xlabel(r'$x$', labelpad=0, fontsize=18)\n",
    "plt.ylabel(r'$y$', labelpad=0, fontsize=18)\n",
    "plt.legend(fontsize=18)\n",
    "plt.savefig('partitioned_case.pdf')\n",
    "plt.show()"
   ]
  },
  {
   "cell_type": "code",
   "execution_count": 22,
   "id": "9b3f971e-72c9-43df-8c01-5ee0dd0db2f5",
   "metadata": {},
   "outputs": [
    {
     "name": "stdout",
     "output_type": "stream",
     "text": [
      "Number of kinks: 4\n"
     ]
    }
   ],
   "source": [
    "print(\"Number of kinks: \" + str(np.sum(net.predict.weight.data.numpy()!=0)))"
   ]
  },
  {
   "cell_type": "markdown",
   "id": "66b50451-c730-4f71-b521-14fdee15d767",
   "metadata": {},
   "source": [
    "# Illustration of the partitioning"
   ]
  },
  {
   "cell_type": "code",
   "execution_count": 23,
   "id": "009e1b8b-dcad-445e-bb26-a94ff0f2ccbc",
   "metadata": {},
   "outputs": [],
   "source": [
    "s_lin = np.concatenate((delta[0].reshape(-1),delta))\n",
    "net_lin = slopes_to_network(x, y, s_lin, balanced=False)\n",
    "partition_x = np.array((x[0],x[1],x[3],x[5],x[8],x[10]))\n",
    "partition = np.array((0,1,3,5,8,10))"
   ]
  },
  {
   "cell_type": "code",
   "execution_count": 24,
   "id": "d12c27f2-3d78-4c2d-b27c-59fe06d2984b",
   "metadata": {},
   "outputs": [
    {
     "data": {
      "image/png": "[encoded data removed]",
      "text/plain": [
       "<Figure size 720x288 with 1 Axes>"
      ]
     },
     "metadata": {
      "needs_background": "light"
     },
     "output_type": "display_data"
    }
   ],
   "source": [
    "z = torch.Tensor(np.linspace(x[0]-0.1,x[-1]+0.1,200).reshape(-1,1))\n",
    "shapes = ['convex', 'affine', 'convex', 'concave']\n",
    "y_positions=[4,1,4,-0.5]\n",
    "rotates=[0,0,0,180]\n",
    "# view data\n",
    "fig = plt.figure(figsize=(10,4))\n",
    "ax = fig.add_subplot(111)\n",
    "ax.grid(alpha=0.2)\n",
    "ax.scatter(x, y, color = \"tab:green\")\n",
    "ax.plot(z.data.numpy(), net_lin(z).data.numpy(), color = \"tab:blue\", label=r'$f_{\\mathrm{lin}}$')\n",
    "ax.vlines(partition_x, ymin=-1.5, ymax=6.5, linewidth=0.5, color = \"tab:red\", linestyle=(0, (20,20)))\n",
    "ax.set_xlabel(r'$x$', labelpad=0, fontsize=18)\n",
    "ax.set_ylabel(r'$y$', labelpad=0, fontsize=18)\n",
    "for k,i in enumerate(partition):\n",
    "    ax.annotate(r'$x_{'+r'n_{{{0}}}'.format(k)+r'}$', (x[i]+0.1,-1.5), color=\"tab:red\", fontsize=18)\n",
    "    if k>1:\n",
    "        x1, x0 = x[i], x[partition[k-1]-1]\n",
    "        gap, xpos = x1-x0, (x1+x0)/2\n",
    "        ypos = y_positions[k-2]\n",
    "        draw_brace(ax, gap, (xpos,ypos), shapes[k-2], (xpos,ypos-0.3), brace_scale=0.8, color=\"tab:grey\", fontsize=18, rotate=rotates[k-2])\n",
    "ax.legend(fontsize=18)\n",
    "fig.savefig('partition.pdf')\n",
    "plt.show()"
   ]
  },
  {
   "cell_type": "markdown",
   "id": "5d25c619-96c1-4e1e-ac35-3162cf4a4de3",
   "metadata": {},
   "source": [
    "# Test with very large convex regions"
   ]
  },
  {
   "cell_type": "markdown",
   "id": "7a0ae1e9-9838-43b2-8461-21c5cbc5b6c6",
   "metadata": {},
   "source": [
    "In this part, we generate $n_{\\text{test}}$ random data sequences with convex region of $n$ points. We then compute the minimal norm interpolator for each of these sequences and count its number of kinks. We then look at the repartition of the number of kinks over all the generated sequences. Note that it should be between $17$ (which corresponds to the sparsest interpolators) and $34$ (thanks to the upper bound given by Lemma 1)."
   ]
  },
  {
   "cell_type": "code",
   "execution_count": 32,
   "id": "ed3f6421-db2c-408e-9e9b-09a87bc4ecdc",
   "metadata": {},
   "outputs": [],
   "source": [
    "kinks = dict()\n",
    "n=35\n",
    "ntest = 10000\n",
    "for hh in range(ntest):\n",
    "    n=35\n",
    "    (x,delta) = generate_convex_sequence(n, xmindiff=0.2, xmaxdiff=2, x0=-4,deltamindiff=0.2,deltamaxdiff=2,delta0=0)\n",
    "    y = deltas_to_ys(x,delta)\n",
    "    s,cost,c = min_norm_interpolator(x,delta,return_cost=True, grid_size=100)\n",
    "    net = slopes_to_network(x, y, s, balanced=False)\n",
    "    nk = net.predict.weight.data.nonzero().shape[0]\n",
    "    kinks[nk] = kinks.get(nk,0)+1"
   ]
  },
  {
   "cell_type": "code",
   "execution_count": 33,
   "id": "b7dc681a-9c78-4b9b-9d71-79aa512116d6",
   "metadata": {},
   "outputs": [],
   "source": [
    "sorted_kinks = sorted(kinks.items(), key=operator.itemgetter(0))\n",
    "nkinks = dict()\n",
    "for s1,s2 in sorted_kinks:\n",
    "    nkinks[s1] = s2\n",
    "del(sorted_kinks)"
   ]
  },
  {
   "cell_type": "code",
   "execution_count": 34,
   "id": "3b28dd6e-4566-4a10-a99d-01b7c1a230cd",
   "metadata": {},
   "outputs": [
    {
     "data": {
      "text/plain": [
       "{17: 10,\n",
       " 18: 123,\n",
       " 19: 771,\n",
       " 20: 2126,\n",
       " 21: 2914,\n",
       " 22: 2350,\n",
       " 23: 1192,\n",
       " 24: 397,\n",
       " 25: 95,\n",
       " 26: 19,\n",
       " 27: 2,\n",
       " 28: 1}"
      ]
     },
     "execution_count": 34,
     "metadata": {},
     "output_type": "execute_result"
    }
   ],
   "source": [
    "nkinks"
   ]
  },
  {
   "cell_type": "markdown",
   "id": "14c23a78-24c8-4071-b593-5ce18b95cadc",
   "metadata": {},
   "source": [
    "# Illustration of DP"
   ]
  },
  {
   "cell_type": "code",
   "execution_count": 36,
   "id": "50eba586-62c0-4c44-9c0f-4f83a61c3190",
   "metadata": {},
   "outputs": [],
   "source": [
    "x = np.array([0.25, 0.7])\n",
    "y = np.array([0.25,  0.75])\n",
    "s = np.array([4, -0.5])\n",
    "net_DP = slopes_to_network(x, y, s, balanced=False)"
   ]
  },
  {
   "cell_type": "code",
   "execution_count": 42,
   "id": "ba825f05-f3fe-4b92-9f0d-09d253e9f4c0",
   "metadata": {},
   "outputs": [
    {
     "data": {
      "image/png": "[encoded data removed]",
      "text/plain": [
       "<Figure size 720x288 with 1 Axes>"
      ]
     },
     "metadata": {
      "needs_background": "light"
     },
     "output_type": "display_data"
    }
   ],
   "source": [
    "prop = dict(arrowstyle=\"fancy,head_width=0.6,head_length=1.,tail_width=0.1\",\n",
    "           color=\"tab:orange\")\n",
    "z = torch.Tensor(np.linspace(0,x[-1]+1,200).reshape(-1,1))\n",
    "xi = [r'$\\boldsymbol{x_{i}}$', r'$\\boldsymbol{x_{i+1}}$']\n",
    "si = [r'$s_{i}$', r'$s_{i+1}$']\n",
    "al = [0.075,0.12]\n",
    "adj= [[0.075,0.13],[0.1,-0.1]]\n",
    "# view data\n",
    "fig = plt.figure(figsize=(10,4))\n",
    "ax = fig.add_subplot(111)\n",
    "ax.grid(alpha=0.2)\n",
    "ax.scatter(x, y, color = \"tab:green\")\n",
    "ax.plot(z.data.numpy(), net_DP(z).data.numpy(), color = \"tab:blue\", label=r'$f$', zorder=0, linestyle=(0, (5,5)))\n",
    "ax.grid(alpha=0.2)\n",
    "ax.set_xlabel(r'$x$', labelpad=0, fontsize=18)\n",
    "ax.set_ylabel(r'$y$', labelpad=0, fontsize=18)\n",
    "ax.set_ylim(-0.7, 1.5)\n",
    "ax.set_xlim(0, 1.25)\n",
    "ax.legend(fontsize=18)\n",
    "ax.vlines(x, ymin=-.7, ymax=y, linewidth=1, color = \"tab:green\", linestyle=(0, (10,10)))\n",
    "\n",
    "# circle for g_{i+1}\n",
    "x0, y0 = ax.transAxes.transform((0, 0)) # lower left in pixels\n",
    "x1, y1 = ax.transAxes.transform((1, 1)) # upper right in pixes\n",
    "dx = x1 - x0\n",
    "dy = y1 - y0\n",
    "maxd = max(dx, dy)\n",
    "width = .1 * maxd / dx\n",
    "height = .1 * maxd / dy\n",
    "\n",
    "# cost g_{i+1}\n",
    "circle = patches.Ellipse((0.4, 0.9), width, height, facecolor='none',\n",
    "                edgecolor=\"tab:red\", linewidth=3)\n",
    "ax.add_patch(circle)\n",
    "ax.text(0.3,1.1, \"kink of cost \\n\"+r'$g_{i+1}(s_{i+1},s_i)$', fontsize=16, color=\"tab:red\")\n",
    "\n",
    "for i in range(0,2):\n",
    "    ax.text(x[i]-0.02,-0.83,xi[i], fontsize=20, color=\"tab:green\")\n",
    "    a = al[i]*np.array([1,s[i]])\n",
    "    ax.annotate(\"\", xy=(x[i],y[i]), xytext=(x[i]-a[0],y[i]-a[1]), arrowprops=prop,\n",
    "               color=\"tab:orange\", zorder=1)\n",
    "    ax.text(x[i]-adj[i][0],y[i]-adj[i][1], si[i], fontsize=16,color=\"tab:orange\")\n",
    "    \n",
    "# draw braces\n",
    "xpos, ypos = 0.6, -1.2\n",
    "gap = (xpos-x[0])*2\n",
    "draw_unfinished_brace(ax, gap, (xpos, ypos), \"total cost \\n\" + r'$c_i(s_i)$', (xpos,-0.35), brace_scale=0.2, beta_scale=300., \n",
    "                      color=\"tab:red\", fontsize=16, rotate=180, extra_dash=0.4, linewidth=2) \n",
    "xpos, ypos = 0.9, -1.5\n",
    "gap = (xpos-x[1])*2\n",
    "draw_unfinished_brace(ax, gap, (xpos, ypos), \"total cost \\n\" + r'$c_{i+1}(s_{i+1})$', (xpos,-0.65), brace_scale=0.2, beta_scale=300., \n",
    "                      color=\"tab:red\", fontsize=16, rotate=180, extra_dash=0.35,linewidth=2)   \n",
    "\n",
    "fig.savefig('DP.pdf')\n",
    "plt.show()"
   ]
  },
  {
   "cell_type": "code",
   "execution_count": null,
   "id": "da9522ea-c536-41b9-a51a-c40234031492",
   "metadata": {},
   "outputs": [],
   "source": []
  }
 ],
 "metadata": {
  "kernelspec": {
   "display_name": "Python 3 (ipykernel)",
   "language": "python",
   "name": "python3"
  },
  "language_info": {
   "codemirror_mode": {
    "name": "ipython",
    "version": 3
   },
   "file_extension": ".py",
   "mimetype": "text/x-python",
   "name": "python",
   "nbconvert_exporter": "python",
   "pygments_lexer": "ipython3",
   "version": "3.9.12"
  }
 },
 "nbformat": 4,
 "nbformat_minor": 5
}
